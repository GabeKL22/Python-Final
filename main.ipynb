{
 "cells": [
  {
   "cell_type": "markdown",
   "metadata": {},
   "source": [
    "#Author:            Gabriel Leffew\n",
    "#Creation Date:     December 1st, 2020\n",
    "#Due Date:          December 9th, 2020\n",
    "#Course:            CSC223\n",
    "#Professor Name:    Dr. Dylan Schwesinger\n",
    "#Assignment:        Final Project\n",
    "#File Name:         main.ipynb\n",
    "#Purpose:           Present some interesting aspect \n",
    "                    of the data using descriptive text\n",
    "                    and data visualizations."
   ]
  },
  {
   "cell_type": "markdown",
   "metadata": {},
   "source": [
    "INTRODUCTION: This dataset is made up of two files. One file named \"beers.csv\" which contains 2409 Craft Beers with info on all of them. The second file name is \"breweries.csv\" containing 557 Breweries across the U.S. Each Craft Beer in the list has a 'brewery_id' where it is made. This corresponds to an 'id' for each Brewery in \"breweries.csv\". Below we answer some questions about the data. "
   ]
  },
  {
   "cell_type": "code",
   "execution_count": 2,
   "metadata": {},
   "outputs": [],
   "source": [
    "import pandas as pd\n",
    "import numpy as np\n",
    "import matplotlib.pyplot as plt\n",
    "import matplotlib"
   ]
  },
  {
   "cell_type": "code",
   "execution_count": 3,
   "metadata": {},
   "outputs": [],
   "source": [
    "beers_df = pd.read_csv('beers.csv')\n",
    "breweries_df = pd.read_csv('breweries.csv')"
   ]
  },
  {
   "cell_type": "markdown",
   "metadata": {},
   "source": [
    "1. How many craft beers are 12oz, how many are 16oz? What percent of all beers have one of these two sizes?"
   ]
  },
  {
   "cell_type": "code",
   "execution_count": 4,
   "metadata": {},
   "outputs": [
    {
     "name": "stdout",
     "output_type": "stream",
     "text": [
      "12oz: 1525\n",
      "16oz: 841\n",
      "98.21502698215026%\n"
     ]
    }
   ],
   "source": [
    "cnt12 = 0\n",
    "cnt16 = 0\n",
    "for beer in beers_df['ounces']:\n",
    "    if beer == 12.0:\n",
    "        cnt12 += 1\n",
    "    elif beer == 16.0:\n",
    "        cnt16 += 1\n",
    "cnt_total = cnt12 + cnt16\n",
    "percentage = (cnt_total/beers_df['row'].max()) * 100\n",
    "print(\"12oz: {}\".format(cnt12))\n",
    "print(\"16oz: {}\".format(cnt16))\n",
    "print(\"{}%\".format(percentage))"
   ]
  },
  {
   "cell_type": "markdown",
   "metadata": {},
   "source": [
    "ANSWER: There are 1525 craft beers that are made in a 12oz can/bottle, and 841 craft beers that are made in a 16oz can/bottle. In total these two sizes make up 98.22% of the craft beer sample."
   ]
  },
  {
   "cell_type": "markdown",
   "metadata": {},
   "source": [
    "2. Are there more craft beers over 6% alcohol by volume, or less than 6%? Name some that are over?"
   ]
  },
  {
   "cell_type": "code",
   "execution_count": 5,
   "metadata": {},
   "outputs": [
    {
     "name": "stdout",
     "output_type": "stream",
     "text": [
      "[\"Devil's Cup\", 'Rise of the Phoenix', 'Sinister', 'Sex and Candy', 'Black Exodus', 'Foreman', 'Cone Crusher', 'Sophomoric Saison', 'Regional Ring Of Fire', 'Garce Selé']\n"
     ]
    },
    {
     "data": {
      "image/png": "[encoded data removed]",
      "text/plain": [
       "<Figure size 432x288 with 1 Axes>"
      ]
     },
     "metadata": {
      "needs_background": "light"
     },
     "output_type": "display_data"
    }
   ],
   "source": [
    "overSix = []\n",
    "underSix = []\n",
    "overSix = beers_df['abv'] >= 0.06\n",
    "underSix = beers_df['abv'] < 0.06\n",
    "cnt_over = len(beers_df[overSix])\n",
    "cnt_under = len(beers_df[underSix])\n",
    "overSix_names = beers_df[overSix]['name'].tolist()\n",
    "print(overSix_names[:10])\n",
    "plt.barh([0, 1], [cnt_over, cnt_under])\n",
    "plt.yticks([0, 1], ['Over 6%', 'Under 6%'])\n",
    "plt.show()"
   ]
  },
  {
   "cell_type": "markdown",
   "metadata": {},
   "source": [
    "ANSWER: There are more craft beers under 6% than there are over 6%. Some of the craft beers over 6% include \"Devil's Cup\", 'Rise of the Phoenix', 'Sinister', 'Sex and Candy', 'Black Exodus', 'Foreman', 'Cone Crusher', 'Sophomoric Saison', 'Regional Ring Of Fire'."
   ]
  },
  {
   "cell_type": "markdown",
   "metadata": {},
   "source": [
    "3. Which five breweries makes the most craft beer? Show in a graph."
   ]
  },
  {
   "cell_type": "code",
   "execution_count": null,
   "metadata": {
    "scrolled": true
   },
   "outputs": [],
   "source": [
    "ids = beers_df.groupby(\"brewery_id\").count().sort_values(by=['row'], ascending=False)\n",
    "brewery_id = []\n",
    "amount = []\n",
    "for i in range(0, 5):\n",
    "    brewery_id.append(ids.iloc[i].name)\n",
    "    amount.append(ids.iloc[i][0])    \n",
    "brewery_name = []\n",
    "for i in range(0, 5):\n",
    "    brewery_name.append(breweries_df[breweries_df['id'].isin(brewery_id)].iloc[i]['name'])\n",
    "#print(brewery_name, amount)\n",
    "plt.bar(np.arange(len(brewery_name)), amount)\n",
    "plt.xticks(np.arange(len(brewery_name)), brewery_name, rotation=90);     "
   ]
  },
  {
   "cell_type": "markdown",
   "metadata": {},
   "source": [
    "ANSWER: The five breweries that produce the most craft beer are 'Brewery Vivant', 'Sun King Brewing Company', 'Sixpoint Craft Ales', 'Cigar City Brewing Company', 'Oskar Blues Brewery'. We had to find the highest number of beers in the beers_df, using that we were able to look up the breweries name based on the id. This is joining two tables. "
   ]
  },
  {
   "cell_type": "markdown",
   "metadata": {},
   "source": [
    "4. Give a list of all the American IPA's made in Pennsylvania."
   ]
  },
  {
   "cell_type": "code",
   "execution_count": 7,
   "metadata": {},
   "outputs": [
    {
     "name": "stdout",
     "output_type": "stream",
     "text": [
      "Mango Ginger\n",
      "Inclined Plane Ale\n",
      "Hop Farm IPA\n",
      "Madra Allta\n",
      "Duluchan India Pale Ale\n",
      "Irregardless IPA\n",
      "Manayunk IPA\n",
      "Better Half\n",
      "County Line IPA\n",
      "Overbite IPA\n",
      "Jah Mon\n",
      "Dayman IPA\n",
      "Old Wylie's IPA\n",
      "Kiss Off IPA\n",
      "Homefront IPA\n",
      "360° India Pale Ale\n",
      "113 IPA\n",
      "Perpetual IPA\n",
      "Good Vibes IPA\n"
     ]
    }
   ],
   "source": [
    "american = beers_df[beers_df['style'] == 'American IPA']\n",
    "brewery_id = []\n",
    "data = []\n",
    "for i in range(0, len(american)):\n",
    "    beer_id = american.iloc[i].loc['brewery_id']\n",
    "    brewery = breweries_df[breweries_df['id'].isin([beer_id])]\n",
    "    if brewery.iloc[0]['state'] == ' PA':\n",
    "        beer_name = american.iloc[i].loc['name']\n",
    "        brewer_name = brewery.iloc[0]['name']\n",
    "        data.append([beer_name, brewer_name])\n",
    "for i in data:\n",
    "    #print(\"Name: {}\\n\\tBrewery: {}\".format(i[0], i[1]))\n",
    "    print(i[0])"
   ]
  },
  {
   "cell_type": "markdown",
   "metadata": {},
   "source": [
    "ANSWER: The American IPA's made in Pennsylvania are Mango Ginger, Inclined Plane Ale, Hop Farm IPA, Madra Allta, Duluchan India Pale Ale, Irregardless IPA, Manayunk IPA, Better Half, County Line IPA, Overbite IPA, Jah Mon, Dayman IPA, Old Wylie's IPA, Kiss Off IPA, Homefront IPA, 360° India Pale Ale, 113 IPA, Perpetual IPA, and Good Vibes IPA."
   ]
  },
  {
   "cell_type": "markdown",
   "metadata": {},
   "source": [
    "5. Which 10 states have the most breweries?"
   ]
  },
  {
   "cell_type": "code",
   "execution_count": 8,
   "metadata": {},
   "outputs": [
    {
     "data": {
      "text/plain": [
       "state\n",
       " CO    47\n",
       " CA    39\n",
       " MI    32\n",
       " OR    29\n",
       " TX    28\n",
       " PA    25\n",
       " WA    23\n",
       " MA    23\n",
       " IN    22\n",
       " WI    20\n",
       "Name: id, dtype: int64"
      ]
     },
     "execution_count": 8,
     "metadata": {},
     "output_type": "execute_result"
    }
   ],
   "source": [
    "ids = breweries_df.groupby(\"state\").count().sort_values(by=['id'], ascending=False)\n",
    "#print(ids[:10]['id'])\n",
    "ids[:10]['id']"
   ]
  },
  {
   "cell_type": "markdown",
   "metadata": {},
   "source": [
    "ANSWER: The top 10 states with the most breweries in descending order are, Colorado at 47, California at 39, Michigan at 32, Oregon at 29, Texas at 28, Pennsylvania at 25, Washington at 23, Massachusetts at 23, Indiana at 22, and Wisconsin at 20."
   ]
  },
  {
   "cell_type": "markdown",
   "metadata": {},
   "source": [
    "CONCLUSION: Using Pandas, Numpy, and Matplot we were able to answer questions about the Craft Beer and the Breweries that they were made at. We were able to visualize certain aspects of the data which ultimately allowed us to get a better understanding of the data. "
   ]
  },
  {
   "cell_type": "markdown",
   "metadata": {},
   "source": [
    "                                Works Cited\n",
    "Jean-NicholasHould. “Craft Beers Dataset.” Kaggle, 18 Jan. 2017, www.kaggle.com/nickhould/craft-cans. "
   ]
  }
 ],
 "metadata": {
  "kernelspec": {
   "display_name": "Python 3",
   "language": "python",
   "name": "python3"
  },
  "language_info": {
   "codemirror_mode": {
    "name": "ipython",
    "version": 3
   },
   "file_extension": ".py",
   "mimetype": "text/x-python",
   "name": "python",
   "nbconvert_exporter": "python",
   "pygments_lexer": "ipython3",
   "version": "3.8.3"
  }
 },
 "nbformat": 4,
 "nbformat_minor": 4
}
